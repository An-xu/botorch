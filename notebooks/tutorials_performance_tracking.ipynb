{
 "cells": [
  {
   "cell_type": "code",
   "execution_count": null,
   "id": "b69ad6d8",
   "metadata": {},
   "outputs": [],
   "source": [
    "import os\n",
    "import pandas as pd\n",
    "import matplotlib.dates as mdates\n",
    "from matplotlib import pyplot as plt\n",
    "import matplotlib_inline\n",
    "import seaborn as sns\n",
    "\n",
    "sns.set(style=\"whitegrid\")\n",
    "matplotlib_inline.backend_inline.set_matplotlib_formats(\"svg\")"
   ]
  },
  {
   "cell_type": "markdown",
   "id": "d9aa4725",
   "metadata": {},
   "source": [
    "# Read in data"
   ]
  },
  {
   "cell_type": "code",
   "execution_count": null,
   "id": "8d6bbe16",
   "metadata": {},
   "outputs": [],
   "source": [
    "data_dir = os.path.join(os.path.dirname(os.getcwd()), \"tutorial_performance_data\")"
   ]
  },
  {
   "cell_type": "code",
   "execution_count": null,
   "id": "27fc1ed0",
   "metadata": {},
   "outputs": [],
   "source": [
    "df = pd.read_csv(os.path.join(data_dir, \"all_data.csv\"))\n",
    "df[\"short_name\"] = df[\"name\"].apply(lambda x: x[:21])\n",
    "df[\"memory_increase\"] = df[\"max_mem\"] - df[\"start_mem\"]\n",
    "df[\"datetime\"] = pd.to_datetime(df[\"datetime\"])"
   ]
  },
  {
   "cell_type": "code",
   "execution_count": null,
   "id": "efdae2c8",
   "metadata": {},
   "outputs": [],
   "source": [
    "df[\"tmp\"] = df.apply(lambda x: x[\"name\"] if x.loc[\"ran_successfully\"] else \"\", axis=1)\n",
    "df[\"ran_successfully\"].mean()"
   ]
  },
  {
   "cell_type": "code",
   "execution_count": null,
   "id": "3ea8893e",
   "metadata": {},
   "outputs": [],
   "source": [
    "df[\"name_if_ran\"] = df.apply(\n",
    "    lambda x: x.loc[\"name\"] if x.loc[\"ran_successfully\"] else \"\", axis=1\n",
    ")\n",
    "\n",
    "# Identifies runs where the same set of tutorials completed\n",
    "# Used to make sure we don't compare aggregated data from\n",
    "# runs where different tutorials were run\n",
    "df[\"set_of_tutorials_run_hash\"] = df.groupby(\"fname\")[\"name_if_ran\"].transform(\n",
    "    lambda x: hash(\"\".join(x.sort_values().values))\n",
    ")\n",
    "df.head()"
   ]
  },
  {
   "cell_type": "markdown",
   "id": "d69f9341",
   "metadata": {},
   "source": [
    "# Plot performance metrics over time"
   ]
  },
  {
   "cell_type": "code",
   "execution_count": null,
   "id": "147e0d13",
   "metadata": {},
   "outputs": [],
   "source": [
    "per_hash_data = (\n",
    "    df.groupby([\"mode\", \"set_of_tutorials_run_hash\"])\n",
    "    .agg(\n",
    "        n_runs=(\"fname\", lambda x: len(x.drop_duplicates())),\n",
    "        most_recent_run=(\"datetime\", \"max\"),\n",
    "    )\n",
    "    .reset_index()\n",
    ")\n",
    "# loosen this as more data comes in\n",
    "per_hash_data[\"keep\"] = (per_hash_data[\"n_runs\"] > 2) | (\n",
    "    per_hash_data[\"most_recent_run\"] > \"2023-02-24\"\n",
    ")\n",
    "per_hash_data"
   ]
  },
  {
   "cell_type": "code",
   "execution_count": null,
   "id": "afc21602",
   "metadata": {},
   "outputs": [],
   "source": [
    "hashes_to_plot = per_hash_data.loc[\n",
    "    per_hash_data[\"keep\"], [\"mode\", \"set_of_tutorials_run_hash\"]\n",
    "]\n",
    "hashes_to_plot"
   ]
  },
  {
   "cell_type": "code",
   "execution_count": null,
   "id": "6eeccf2a",
   "metadata": {},
   "outputs": [],
   "source": [
    "time_series_data_wide = (\n",
    "    df.merge(hashes_to_plot)\n",
    "    .groupby(\"fname\")\n",
    "    .agg(\n",
    "        mode=(\"mode\", \"first\"),\n",
    "        set_of_tutorials_run_hash=(\"set_of_tutorials_run_hash\", \"first\"),\n",
    "        datetime=(\"datetime\", \"first\"),\n",
    "        total_runtime=(\"runtime\", \"sum\"),\n",
    "        slowest_runtime=(\"runtime\", \"max\"),\n",
    "        avg_memory=(\"memory_increase\", \"mean\"),\n",
    "        max_memory=(\"memory_increase\", \"max\"),\n",
    "    )\n",
    ")\n",
    "\n",
    "time_series_data_wide.head()"
   ]
  },
  {
   "cell_type": "code",
   "execution_count": null,
   "id": "65da77f8",
   "metadata": {},
   "outputs": [],
   "source": [
    "time_series_data_long = pd.melt(\n",
    "    time_series_data_wide,  # .reset_index(),\n",
    "    id_vars=[\n",
    "        # \"fname\",\n",
    "        \"mode\",\n",
    "        \"set_of_tutorials_run_hash\",\n",
    "        \"datetime\",\n",
    "    ],\n",
    "    value_vars=[\"total_runtime\", \"slowest_runtime\", \"avg_memory\", \"max_memory\"],\n",
    "    var_name=\"metric\",\n",
    ")\n",
    "time_series_data_long.dtypes"
   ]
  },
  {
   "cell_type": "code",
   "execution_count": null,
   "id": "5ce5df1d",
   "metadata": {},
   "outputs": [],
   "source": [
    "def make_time_series_plot(\n",
    "    time_series_data_long: pd.DataFrame, mode: str\n",
    ") -> sns.FacetGrid:\n",
    "    keep_data = time_series_data_long[\n",
    "        # time_series_data_long[\"keep\"] &\n",
    "        (time_series_data_long[\"mode\"] == mode)\n",
    "    ].sort_values(\"datetime\")\n",
    "    if len(keep_data) == 0:\n",
    "        print(f\"No {mode} data.\")\n",
    "        return\n",
    "    g = sns.FacetGrid(\n",
    "        data=keep_data,\n",
    "        col=\"metric\",\n",
    "        col_wrap=2,\n",
    "        aspect=1.5,\n",
    "        sharey=False,\n",
    "        hue=\"set_of_tutorials_run_hash\",\n",
    "        palette=\"viridis\",\n",
    "    )\n",
    "    g.map(plt.plot, \"datetime\", \"value\")\n",
    "    g.map(plt.scatter, \"datetime\", \"value\")\n",
    "    g.add_legend()\n",
    "    g.fig.suptitle(mode)\n",
    "    plt.subplots_adjust(top=0.9)\n",
    "    for ax in g.axes.flatten():\n",
    "        ax.xaxis.set_major_formatter(mdates.DateFormatter(\"%m-%d\"))\n",
    "    return g"
   ]
  },
  {
   "cell_type": "code",
   "execution_count": null,
   "id": "8139946f",
   "metadata": {},
   "outputs": [],
   "source": [
    "def make_histogram(time_series_data_long: pd.DataFrame, mode: str) -> sns.FacetGrid:\n",
    "    if not (per_hash_data[\"mode\"] == mode).any():\n",
    "        print(f\"No relevant {mode} data.\")\n",
    "        return\n",
    "    most_recent_hash = (\n",
    "        per_hash_data[per_hash_data[\"mode\"] == mode]\n",
    "        .sort_values(\"most_recent_run\")[\"set_of_tutorials_run_hash\"]\n",
    "        .values[-1]\n",
    "    )\n",
    "\n",
    "    keep_data = time_series_data_long[\n",
    "        # time_series_data_long[\"keep\"] &\n",
    "        (time_series_data_long[\"mode\"] == mode)\n",
    "        & (time_series_data_long[\"set_of_tutorials_run_hash\"] == most_recent_hash)\n",
    "    ]\n",
    "    if len(keep_data) == 0:\n",
    "        print(f\"No relevant {mode} data.\")\n",
    "        return\n",
    "    g = sns.FacetGrid(\n",
    "        data=keep_data, col=\"metric\", col_wrap=2, aspect=1.5, sharex=False\n",
    "    )\n",
    "    g.map(plt.hist, \"value\", color=\"k\")\n",
    "    g.fig.suptitle(mode)\n",
    "    plt.subplots_adjust(top=0.9)\n",
    "    return g"
   ]
  },
  {
   "cell_type": "code",
   "execution_count": null,
   "id": "b0c4a69f",
   "metadata": {},
   "outputs": [],
   "source": [
    "make_time_series_plot(time_series_data_long, \"standard\")"
   ]
  },
  {
   "cell_type": "code",
   "execution_count": null,
   "id": "f9398afb",
   "metadata": {},
   "outputs": [],
   "source": [
    "make_time_series_plot(time_series_data_long, \"smoke-test\")"
   ]
  },
  {
   "cell_type": "code",
   "execution_count": null,
   "id": "372bc99e",
   "metadata": {},
   "outputs": [],
   "source": [
    "make_histogram(time_series_data_long, \"standard\")"
   ]
  },
  {
   "cell_type": "code",
   "execution_count": null,
   "id": "eaa096bc",
   "metadata": {},
   "outputs": [],
   "source": [
    "make_histogram(time_series_data_long, \"smoke-test\")"
   ]
  },
  {
   "cell_type": "markdown",
   "id": "135a9d98",
   "metadata": {},
   "source": [
    "# Per-tutorial time series plots and histograms"
   ]
  },
  {
   "cell_type": "code",
   "execution_count": null,
   "id": "b20f9d2e",
   "metadata": {},
   "outputs": [],
   "source": [
    "# time series, one tutorial at a time\n",
    "def make_per_tutorial_ts_plot(mode: str):\n",
    "    idx = df[\"ran_successfully\"] & (df[\"mode\"] == mode)\n",
    "    if not idx.any():\n",
    "        print(f\"No data for {mode}\")\n",
    "        return\n",
    "    g = sns.FacetGrid(\n",
    "        data=pd.melt(\n",
    "            df[idx],\n",
    "            id_vars=[\"short_name\", \"datetime\"],\n",
    "            value_vars=[\"runtime\", \"memory_increase\"],\n",
    "            value_name=\"value\",\n",
    "            var_name=\"metric\",\n",
    "        ),\n",
    "        col=\"metric\",\n",
    "        row=\"short_name\",\n",
    "        sharey=False,\n",
    "        aspect=3,\n",
    "    )\n",
    "    g.set_titles(col_template=\"{col_name}\", row_template=\"{row_name}\")\n",
    "    g.map(plt.plot, \"datetime\", \"value\", color=\"k\")\n",
    "    g.map(plt.scatter, \"datetime\", \"value\", color=\"k\")"
   ]
  },
  {
   "cell_type": "code",
   "execution_count": null,
   "id": "31cdfe58",
   "metadata": {},
   "outputs": [],
   "source": [
    "def make_per_tutorial_hist(mode: str):\n",
    "    idx = df[\"ran_successfully\"] & (df[\"mode\"] == mode)\n",
    "    if not idx.any():\n",
    "        print(f\"No data for {mode}\")\n",
    "        return\n",
    "    g = sns.FacetGrid(\n",
    "        data=pd.melt(\n",
    "            df[idx],\n",
    "            id_vars=[\"short_name\", \"datetime\"],\n",
    "            value_vars=[\"runtime\", \"memory_increase\"],\n",
    "            value_name=\"value\",\n",
    "            var_name=\"metric\",\n",
    "        ),\n",
    "        col=\"metric\",\n",
    "        row=\"short_name\",\n",
    "        sharex=False,\n",
    "        aspect=3,\n",
    "    )\n",
    "    g.set_titles(col_template=\"{col_name}\", row_template=\"{row_name}\")\n",
    "    g.map(plt.hist, \"value\", color=\"k\")"
   ]
  },
  {
   "cell_type": "code",
   "execution_count": null,
   "id": "e3165eff",
   "metadata": {},
   "outputs": [],
   "source": [
    "make_per_tutorial_ts_plot(\"standard\")"
   ]
  },
  {
   "cell_type": "code",
   "execution_count": null,
   "id": "457511c1",
   "metadata": {},
   "outputs": [],
   "source": [
    "make_per_tutorial_ts_plot(\"smoke-test\")"
   ]
  },
  {
   "cell_type": "code",
   "execution_count": null,
   "id": "78ce5120",
   "metadata": {},
   "outputs": [],
   "source": [
    "make_per_tutorial_hist(\"standard\")"
   ]
  },
  {
   "cell_type": "code",
   "execution_count": null,
   "id": "bc5918ec",
   "metadata": {},
   "outputs": [],
   "source": [
    "make_per_tutorial_hist(\"smoke-test\")"
   ]
  },
  {
   "cell_type": "markdown",
   "id": "447b2089",
   "metadata": {},
   "source": [
    "# Compare tutorials against each other"
   ]
  },
  {
   "cell_type": "code",
   "execution_count": null,
   "id": "f4b22312",
   "metadata": {},
   "outputs": [],
   "source": [
    "last_run_data = df[\n",
    "    df[\"datetime\"] == df.groupby(\"mode\")[\"datetime\"].transform(\"max\")\n",
    "].sort_values(\"memory_increase\")\n",
    "last_run_data_long = pd.melt(\n",
    "    last_run_data,\n",
    "    id_vars=[\"mode\", \"name\"],\n",
    "    value_vars=[\"runtime\", \"memory_increase\"],\n",
    "    var_name=\"metric\",\n",
    ")\n",
    "last_run_data_long.head()"
   ]
  },
  {
   "cell_type": "code",
   "execution_count": null,
   "id": "fbfff91e",
   "metadata": {},
   "outputs": [],
   "source": [
    "g = sns.catplot(\n",
    "    data=last_run_data_long,\n",
    "    col=\"metric\",\n",
    "    row=\"mode\",\n",
    "    x=\"value\",\n",
    "    y=\"name\",\n",
    "    kind=\"bar\",\n",
    "    orient=\"h\",\n",
    "    sharex=False,\n",
    "    color=\"k\",\n",
    ")\n",
    "g.fig.suptitle(\"Metrics on the most recent run in this mode\")\n",
    "plt.subplots_adjust(top=0.9)"
   ]
  },
  {
   "cell_type": "code",
   "execution_count": null,
   "id": "eadf86d0",
   "metadata": {},
   "outputs": [],
   "source": []
  }
 ],
 "metadata": {
  "kernelspec": {
   "display_name": "Python 3 (ipykernel)",
   "language": "python",
   "name": "python3"
  },
  "language_info": {
   "codemirror_mode": {
    "name": "ipython",
    "version": 3
   },
   "file_extension": ".py",
   "mimetype": "text/x-python",
   "name": "python",
   "nbconvert_exporter": "python",
   "pygments_lexer": "ipython3",
   "version": "3.10.8"
  }
 },
 "nbformat": 4,
 "nbformat_minor": 5
}
